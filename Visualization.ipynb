{
 "cells": [
  {
   "cell_type": "markdown",
   "metadata": {},
   "source": [
    "# Homework 3 Beginnings:\n",
    "Starting with the notes from class, lecture 5: Black Hole Imaging, we have a set of ray equations for a schwarzschild metric.\n",
    "\n",
    "### Initialization factors:\n",
    "\n",
    "spin: $0 < a_0 < 1$\n",
    "\n",
    "inclination: $0 < \\theta_0 < \\pi$\n",
    "\n",
    "angular momentum: $L$\n",
    "\n",
    "\n",
    "### Notation:\n",
    "\n",
    "The Sky Plane, $S$ with cartesian coordinates $(X,Y)$\n",
    "\n",
    "Y: Parallel to the projection of hole spin on the sky\n",
    "\n",
    "Momentum vector: $k = dx/d\\xi$ with affine parameter $\\xi = 0$ at $S$ and $\\xi < 0$ near the BH.\n",
    "\n",
    "### Equations needing Evaluation\n",
    "For now we are interested in stationary sources, so we have dropped the $t$ parameter.\n",
    "\n",
    "TBD"
   ]
  },
  {
   "cell_type": "code",
   "execution_count": 1,
   "metadata": {},
   "outputs": [],
   "source": [
    "import matplotlib.pyplot as plt\n",
    "import numpy as np"
   ]
  },
  {
   "cell_type": "code",
   "execution_count": 8,
   "metadata": {},
   "outputs": [],
   "source": [
    "class bh_vis:\n",
    "    def __init__(self,size,a0=0.5,inc=np.pi/2):\n",
    "        #initialize class\n",
    "        self.XY = np.zeros(size)\n",
    "        self.size = size\n",
    "        self.a0 = a0\n",
    "        self.inc = inc\n",
    "        print('Instance initialized:\\nsize: {0}\\nspin: {1}\\ninclination: {2}'.format(size,a0,inc))\n",
    "        return\n",
    "    \n",
    "    def twoDtrace(self, **kwargs):\n",
    "        #perform a 2D trace as seen in cell 182 of the lecture notes\n",
    "        return 0\n",
    "    \n",
    "    def threeDtrace(self,**kwargs):\n",
    "        #if we get around to it, plot real image which requires a three dimensional trace\n",
    "        return 0\n",
    "    \n",
    "    def source_init(self,params):\n",
    "        #set up the source, likely an equatorial disk of uniform brightness\n",
    "        return 0\n",
    "    \n",
    "        "
   ]
  },
  {
   "cell_type": "code",
   "execution_count": 10,
   "metadata": {},
   "outputs": [
    {
     "name": "stdout",
     "output_type": "stream",
     "text": [
      "Instance initialized:\n",
      "size: (32, 32)\n",
      "spin: 0.9\n",
      "inclination: 1.0471975511965976\n"
     ]
    }
   ],
   "source": [
    "#example call\n",
    "test1 = bh_vis((32,32),a0=0.9,inc=np.pi/3)"
   ]
  },
  {
   "cell_type": "code",
   "execution_count": null,
   "metadata": {},
   "outputs": [],
   "source": []
  }
 ],
 "metadata": {
  "kernelspec": {
   "display_name": "Python 3",
   "language": "python",
   "name": "python3"
  },
  "language_info": {
   "codemirror_mode": {
    "name": "ipython",
    "version": 3
   },
   "file_extension": ".py",
   "mimetype": "text/x-python",
   "name": "python",
   "nbconvert_exporter": "python",
   "pygments_lexer": "ipython3",
   "version": "3.7.1"
  }
 },
 "nbformat": 4,
 "nbformat_minor": 2
}
